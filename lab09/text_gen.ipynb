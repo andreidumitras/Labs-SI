{
 "cells": [
  {
   "cell_type": "code",
   "execution_count": null,
   "id": "6fbe2adc",
   "metadata": {},
   "outputs": [],
   "source": [
    "import re\n",
    "import numpy as np\n",
    "from tensorflow.keras.models import Sequential\n",
    "from tensorflow.keras.layers import Dense, LSTM\n",
    "import random\n"
   ]
  },
  {
   "cell_type": "code",
   "execution_count": null,
   "id": "427a1cd1",
   "metadata": {},
   "outputs": [],
   "source": [
    "filename = 'input.txt'\n",
    "with open(filename, 'r', encoding='utf-8') as file:\n",
    "    text = file.read()"
   ]
  },
  {
   "cell_type": "code",
   "execution_count": null,
   "id": "ae75baf7",
   "metadata": {},
   "outputs": [],
   "source": [
    "# scapati de majuscule si de spatiile de la inceputul si sfarsitul textului\n",
    "\n",
    "\n",
    "# \n",
    "text = re.sub(r'[^a-zA-Z0-9 \\.,;:?!\\'\\\"()\\n]', ' ', text)\n",
    "\n",
    "# genereaza un set de caractere unice\n",
    "# doua dictionare:\n",
    "# 1. chars2idx - mapare de la caracter la index\n",
    "# 2. idx2chars - mapare de la index la caracter\n",
    "\n",
    "# convert text to sequence\n",
    "sequence_length = 100\n",
    "step = 1\n",
    "\n",
    "# mapare sevente de intrare la secvente de iesire\n",
    "\n",
    "print(f'Number of sequences: {len(input_sequences)}')\n",
    "\n",
    "# vectorize the sequences - one-hot encoding for each character\n",
    "\n",
    "\n",
    "for i, sequence in enumerate(input_sequences):\n",
    "    for j, char in enumerate(sequence):\n",
    "        X[i, j, chars2idx[char]] = 1\n",
    "    y[i, chars2idx[target_chars[i]]] = 1"
   ]
  },
  {
   "cell_type": "code",
   "execution_count": null,
   "id": "65eefb01",
   "metadata": {},
   "outputs": [],
   "source": []
  },
  {
   "cell_type": "code",
   "execution_count": null,
   "id": "39a4c6e9",
   "metadata": {},
   "outputs": [],
   "source": [
    "model = Sequential([\n",
    "    \n",
    "])\n",
    "\n",
    "model.compile(loss='categorical_crossentropy', optimizer='adam', metrics=['accuracy'])\n",
    "model.summary()"
   ]
  },
  {
   "cell_type": "code",
   "execution_count": null,
   "id": "9f4587bf",
   "metadata": {},
   "outputs": [],
   "source": [
    "subset_size = 10000\n",
    "history = model.fit(X[:subset_size], y[:subset_size], epochs=10, batch_size=128)\n"
   ]
  },
  {
   "cell_type": "code",
   "execution_count": null,
   "id": "31f445ad",
   "metadata": {},
   "outputs": [],
   "source": [
    "# generate text using a seed and the trained model\n",
    "def sample(preds, temperature=1.0):\n",
    "    preds = np.asarray(preds).astype('float64')\n",
    "    preds = np.log(preds + 1e-8) / temperature\n",
    "    exp_preds = np.exp(preds)\n",
    "    preds = exp_preds / np.sum(exp_preds)\n",
    "    probas = np.random.multinomial(1, preds, 1)\n",
    "    return np.argmax(probas)\n",
    "\n",
    "def generate_text(length=100, temperature=0.5):\n",
    "    start_index = random.randint(0, len(text) - sequence_length - 1)\n",
    "    seed_text = text[start_index: start_index + sequence_length]\n",
    "    generated = seed_text\n",
    "\n",
    "    print(f'Generating with seed: \"{seed_text}\"')\n",
    "    \n",
    "    for i in range(length):\n",
    "        x_pred = np.zeros((1, sequence_length, vocab_size))\n",
    "        for j, char in enumerate(seed_text):\n",
    "            x_pred[0, j, chars2idx[char]] = 1\n",
    "\n",
    "        preds = model.predict(x_pred, verbose=0)[0]\n",
    "        next_index = sample(preds, temperature)\n",
    "        next_char = idx2chars[next_index]\n",
    "\n",
    "        generated += next_char\n",
    "        seed_text = seed_text[1:] + next_char\n",
    "\n",
    "    print(f'Generated text: \"{generated}\"')"
   ]
  },
  {
   "cell_type": "code",
   "execution_count": null,
   "id": "7c4650e8",
   "metadata": {},
   "outputs": [],
   "source": [
    "generate_text(length=500, temperature=0.5)\n"
   ]
  }
 ],
 "metadata": {
  "language_info": {
   "name": "python"
  }
 },
 "nbformat": 4,
 "nbformat_minor": 5
}
