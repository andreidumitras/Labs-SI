{
 "cells": [
  {
   "cell_type": "code",
   "execution_count": 1,
   "metadata": {},
   "outputs": [],
   "source": [
    "import pandas as pd\n"
   ]
  },
  {
   "cell_type": "code",
   "execution_count": 3,
   "metadata": {},
   "outputs": [],
   "source": [
    "csv = pd.read_csv('llama.csv')\n",
    "X = csv[[\n",
    "        'has from address',\n",
    "        'has from displayed name',\n",
    "        'has reply address',\n",
    "        'has reply displayed name',\n",
    "        'has return address',\n",
    "        'from and correspondant address similarity',\n",
    "        'displayed name and local part similarity of form',\n",
    "        'displayed name and local part similarity of reply',\n",
    "        'from has common email provider',\n",
    "        'correspondant address has common email provider',\n",
    "        'from full length cotinet',\n",
    "        'from displayed name length cotinet',\n",
    "        'from address length cotinet',\n",
    "        'from local-part length cotinet',\n",
    "        'from domain length cotinet',\n",
    "        'correspondant full length cotinet',\n",
    "        'correspondant displayed name length cotinet',\n",
    "        'correspondant address length cotinet',\n",
    "        'correspondant local-part length cotinet',\n",
    "        'correspondant domain length cotinet',\n",
    "        'number of receivers (To) cotient',\n",
    "        'number of CCs cotient',\n",
    "        'PASS SPF',\n",
    "        'Subject is empty',\n",
    "        'Subject has unusual characters',\n",
    "        'Subject number of words cotient',\n",
    "        'Subject length cotient',\n",
    "        'Subject number of digits cotient',\n",
    "        'Subject number of caps cotient',\n",
    "        'Subject number of lows cotient',\n",
    "        'Subject is Fwd',\n",
    "        'Subject is Re',\n",
    "        'Text is blank',\n",
    "        'Text has HTML',\n",
    "        'Text number of headings cotient',\n",
    "        'Text number of paragraphs cotient',\n",
    "        'Text number of URLs cotient',\n",
    "        'Text number of distict URLs cotient',\n",
    "        'Text number of mailto URLs cotient',\n",
    "        'Text number of http(s?) URLs cotient',\n",
    "        'Text number of images cotient',\n",
    "        'Text number of buttons cotient',\n",
    "        'Text number of scripts cotient',\n",
    "        'Text number of words cotient',\n",
    "        'Text number of characters cotient',\n",
    "        'Text has unusual characters',\n",
    "        'Attachments total-number cotient',\n",
    "        'Inline total-number cotient',\n",
    "        'Attachments variety',\n",
    "        'Inlines variety',\n",
    "        ]]\n",
    "y = csv['IS PHIS']"
   ]
  }
 ],
 "metadata": {
  "kernelspec": {
   "display_name": "Python 3",
   "language": "python",
   "name": "python3"
  },
  "language_info": {
   "codemirror_mode": {
    "name": "ipython",
    "version": 3
   },
   "file_extension": ".py",
   "mimetype": "text/x-python",
   "name": "python",
   "nbconvert_exporter": "python",
   "pygments_lexer": "ipython3",
   "version": "3.12.0"
  }
 },
 "nbformat": 4,
 "nbformat_minor": 2
}
