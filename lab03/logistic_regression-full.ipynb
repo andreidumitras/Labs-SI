{
 "cells": [
  {
   "cell_type": "markdown",
   "metadata": {},
   "source": [
    "# **Logistic Regression** (sau Regresia Logistica)\n",
    "\n",
    "![Grafic](figs/logreg.png \"Regresie Logistica\")\n",
    "\n",
    "Creaza probabilitatea ca o anumita valoare, sa corespunda unei anumite categorii. Functia aceasta se modeleaza prin functia sigmoid care returneaza valori din intervalul $(0,1)$ pentru orice input $x$.\n",
    "$$\n",
    "s(x) = \\frac{1}{1+e^{-x}}\n",
    "$$\n",
    "Astfel, estimarea probabilistica se poate obtine prin urmatoarea relatie, facand apel la ***regresia liniara***, servita in locul parametrului $x$:\n",
    "$$\n",
    "\\hat{y}(x_{1},x_{2},...,x_{k})=\\frac{1}{1+e^{-(w_{1}x_{1}+w_{2}x_{2}+...+w_{k}x_{k}+b)}}\n",
    "$$\n",
    "sau mai redus:\n",
    "$$\\hat{y}(X) = \\frac{1}{1+e^{-(WX+b)}}$$\n",
    "* $x_{i}$ - variabilele independente, caracteristicile date in problema care sunt corelate in rezultat\n",
    "* $y$ - variabila dependenta, care este rezultatul problemei de regresie\n",
    "* $w_{i}$ - (weights) coeficientii care descriu impactul fiecarei variabile -> care variabila are cea mai mare importanta\n",
    "* $b$ - (bais) tendinta sistemului de a fi, fara vre-un impact al unei caracteristici.\n",
    "\n",
    "### Invatarea parametrilor $w_{i}$ si $b$: **Gradient Descent**\n",
    "Pentru a obtine modelul matematic al trendului de date, se urmareste reglarea parametrilor $w_{i}$ si $b$, in asa fel incat pierderea $L$, numita si deviatie sau eroare, sa fie minima!\n",
    "\n",
    "Spre deosebire de regresia liniara, functia de pierdere folosita este entropia incrucisata:\n",
    "$$\n",
    "L(W, b) = \\frac{1}{N}\\sum_{i=1}^{N}(y_{i}\\cdot ln(\\hat{y})+(1+y_{i})\\cdot ln(1 - \\hat{y}))\n",
    "$$\n",
    "\n",
    "Scopul nostru acum este de a minimiza functia de pierdere. In acest sens, se considera gradientul acestei functii, care depinde de coeficientii $w_{i}$ si $b$ ai fiecarui data-point.\n",
    "$$\n",
    "\\nabla L(W, b) = \\begin{bmatrix}\n",
    "\\frac{\\partial L}{\\partial W} \\\\\n",
    "\\\\\n",
    "\\frac{\\partial L}{\\partial b}\n",
    "\\end{bmatrix}\n",
    "$$\n",
    "Notam astfel:\n",
    "$$\n",
    "dW=\\frac{\\partial L}{\\partial W} = \\frac{1}{N}\\sum_{i=1}^{N}2X_{i}(\\hat{y}_{i} - (WX_{i}+b)) = \\boxed{\\frac{2}{N}\\sum_{i = 1}^{N}X_{i}(\\hat{y}_{i} - y_{i})}\n",
    "\\\\\n",
    "db=\\frac{\\partial L}{\\partial b} = \\frac{1}{N}\\sum_{i=1}^{N}2(\\hat{y}_{i} - (WX_{i}+b)) = \\boxed{\\frac{2}{N}\\sum_{i = 1}^{N}(\\hat{y}_{i} - y_{i})}\n",
    "$$\n",
    "\n",
    "Invatarea parametrilor $W$ si $b$, se realizeaza iterativ, urmarind reducerea acestora lor, raportata la directia pe care o da gradientul functiei de pierdere.\n",
    "$$\n",
    "W_{i+1}=W_{i}-\\alpha\\cdot dW_{i}\\\\\n",
    "b_{i+1}=b_{i}-\\alpha\\cdot db_{i}\n",
    "$$\n",
    "$\\alpha$ reprezinta rata de invatare, care indica granularitatea si pasul in care functia se apropie de valoarea sa minima. $\\alpha$ se alege de regula ca fiind o valoare foarte mica, precum 0.001.\n",
    "\n",
    "### **Algoritmul de antrenare**!\n",
    "* initializam $W_{0}$ cu 0.\n",
    "* initializam $b_{0}$ cu 0.\n",
    "* pentru fiecare data point\n",
    "    * se prezice $\\hat{y}_{i}=WX_{i}+b$\n",
    "    * calculam eroarea\n",
    "    * coborare in gradient, actualizand $W$ si $b$."
   ]
  },
  {
   "cell_type": "code",
   "execution_count": 1,
   "metadata": {},
   "outputs": [],
   "source": [
    "import numpy as np\n",
    "from sklearn import datasets\n",
    "import matplotlib.pyplot as plt\n",
    "from sklearn.model_selection import train_test_split\n"
   ]
  },
  {
   "cell_type": "code",
   "execution_count": 2,
   "metadata": {},
   "outputs": [],
   "source": [
    "cancer = datasets.load_breast_cancer()\n",
    "X = cancer.data\n",
    "y = cancer.target\n",
    "\n",
    "X_train, X_test, y_train, y_test = train_test_split(X, y, test_size=0.2, random_state=1234)\n",
    "\n",
    "# plt.scatter(X[:, 0], y, color='b', marker='o')\n",
    "# plt.show()"
   ]
  },
  {
   "cell_type": "code",
   "execution_count": 9,
   "metadata": {},
   "outputs": [
    {
     "ename": "ImportError",
     "evalue": "cannot import name 'LogisticRegression' from 'logistic_regression' (c:\\Users\\andre\\Desktop\\STUFF\\Teaching\\IS-AC\\Labs\\lab3\\logistic_regression.py)",
     "output_type": "error",
     "traceback": [
      "\u001b[1;31m---------------------------------------------------------------------------\u001b[0m",
      "\u001b[1;31mImportError\u001b[0m                               Traceback (most recent call last)",
      "Cell \u001b[1;32mIn[9], line 1\u001b[0m\n\u001b[1;32m----> 1\u001b[0m \u001b[38;5;28;01mfrom\u001b[39;00m \u001b[38;5;21;01mlogistic_regression\u001b[39;00m \u001b[38;5;28;01mimport\u001b[39;00m LogisticRegression\n\u001b[0;32m      3\u001b[0m logreg \u001b[38;5;241m=\u001b[39m LogisticRegression()\n\u001b[0;32m      4\u001b[0m logreg\u001b[38;5;241m.\u001b[39mfit(X_train, y_train)\n",
      "\u001b[1;31mImportError\u001b[0m: cannot import name 'LogisticRegression' from 'logistic_regression' (c:\\Users\\andre\\Desktop\\STUFF\\Teaching\\IS-AC\\Labs\\lab3\\logistic_regression.py)"
     ]
    }
   ],
   "source": [
    "from logistic_regression import LogisticRegression\n",
    "\n",
    "logreg = LogisticRegression()\n",
    "logreg.fit(X_train, y_train)\n",
    "\n",
    "y_pred = logreg.predict(X_test)"
   ]
  },
  {
   "cell_type": "code",
   "execution_count": null,
   "metadata": {},
   "outputs": [
    {
     "name": "stdout",
     "output_type": "stream",
     "text": [
      "55.533167031931804\n"
     ]
    }
   ],
   "source": [
    "def accuracy(y_test, y_pred):\n",
    "    return np.sum(y_pred == y_test) / len(y_test)\n",
    "\n",
    "print(accuracy(y_test, y_pred))"
   ]
  },
  {
   "cell_type": "code",
   "execution_count": 14,
   "metadata": {},
   "outputs": [
    {
     "data": {
      "image/png": "[encoded data removed]",
      "text/plain": [
       "<Figure size 640x480 with 1 Axes>"
      ]
     },
     "metadata": {},
     "output_type": "display_data"
    }
   ],
   "source": [
    "cmap = plt.get_cmap('viridis')\n",
    "plt.scatter(X_train, y_train, color=cmap(0.9))\n",
    "plt.scatter(X_test, y_test, color=cmap(0.4))\n",
    "\n",
    "y_pred = linreg.predict(X)\n",
    "plt.plot(X, y_pred)\n",
    "\n",
    "plt.show()"
   ]
  },
  {
   "cell_type": "code",
   "execution_count": null,
   "metadata": {},
   "outputs": [],
   "source": []
  }
 ],
 "metadata": {
  "kernelspec": {
   "display_name": "Python 3",
   "language": "python",
   "name": "python3"
  },
  "language_info": {
   "codemirror_mode": {
    "name": "ipython",
    "version": 3
   },
   "file_extension": ".py",
   "mimetype": "text/x-python",
   "name": "python",
   "nbconvert_exporter": "python",
   "pygments_lexer": "ipython3",
   "version": "3.12.0"
  }
 },
 "nbformat": 4,
 "nbformat_minor": 2
}
