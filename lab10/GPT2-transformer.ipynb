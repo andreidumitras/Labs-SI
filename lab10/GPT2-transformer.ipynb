{
 "cells": [
  {
   "cell_type": "code",
   "execution_count": null,
   "id": "e9dd0151",
   "metadata": {},
   "outputs": [],
   "source": [
    "from transformer import GPT2Tokenizer, GPT2LMHeadModel"
   ]
  },
  {
   "cell_type": "code",
   "execution_count": null,
   "id": "5d2b0abb",
   "metadata": {},
   "outputs": [],
   "source": [
    "tokenizer = GPT2Tokenizer.from_pretrained(\"gpt2-large\")"
   ]
  },
  {
   "cell_type": "code",
   "execution_count": null,
   "id": "ed35408a",
   "metadata": {},
   "outputs": [],
   "source": [
    "model = GPT2LMHeadModel.from_pretrained(\"gpt2-large\", pad_token_id=tokenizer.eos_token_id)"
   ]
  },
  {
   "cell_type": "code",
   "execution_count": null,
   "id": "9a6c6fc5",
   "metadata": {},
   "outputs": [],
   "source": [
    "tokenizer.eos_token_id"
   ]
  },
  {
   "cell_type": "code",
   "execution_count": null,
   "id": "9f6ef60d",
   "metadata": {},
   "outputs": [],
   "source": [
    "tokenizer.decode(tokenizer.eos_token_id)"
   ]
  },
  {
   "cell_type": "code",
   "execution_count": null,
   "id": "d848677b",
   "metadata": {},
   "outputs": [],
   "source": [
    "# alege o propozitie\n",
    "\n",
    "numeric_ids = tokenizer.encode(santance, return_tensors=\"pt\")\n",
    "\n",
    "# afiseaza encoding-ul"
   ]
  },
  {
   "cell_type": "code",
   "execution_count": null,
   "id": "76f0421d",
   "metadata": {},
   "outputs": [],
   "source": [
    "tokenizer.decode(numeric_ids[0][0])\n",
    "tokenizer.decode(numeric_ids[0][1])"
   ]
  },
  {
   "cell_type": "code",
   "execution_count": null,
   "id": "0da352c8",
   "metadata": {},
   "outputs": [],
   "source": [
    "# genereaza urmatoarele 100 de cuvinte, folosind metoda generate din modelx"
   ]
  }
 ],
 "metadata": {
  "kernelspec": {
   "display_name": "Python 3",
   "language": "python",
   "name": "python3"
  },
  "language_info": {
   "codemirror_mode": {
    "name": "ipython",
    "version": 3
   },
   "file_extension": ".py",
   "mimetype": "text/x-python",
   "name": "python",
   "nbconvert_exporter": "python",
   "pygments_lexer": "ipython3",
   "version": "3.12.0"
  }
 },
 "nbformat": 4,
 "nbformat_minor": 5
}
