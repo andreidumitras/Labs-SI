{
 "cells": [
  {
   "cell_type": "markdown",
   "metadata": {},
   "source": [
    "# **Naive Bayes** (sau Clasificatorul bayesian naiv)\n",
    "\n",
    "![Grafic](figs/naive-bayes.png \"Naive Bayes Classifier\")\n",
    "\n",
    "Este un clasificator probabilistic, bazat pe Teorema lui Thomas Bayes (). Acesta porneste de la premise puternice de independenta intre caracteristicile de intrare $X=(x_{1}, x_{2}, ..., x_{k})$, presupunand fiecare $x_{i}$ ca fiind de sine stator, fara a fi corelat cu altul (de unde vine si numele de \"*naiv*\").\n",
    "\n",
    "### Teorema lui Bayes\n",
    "**Formula**:\n",
    "$$\n",
    "\\boxed{P(A|B) = \\frac{P(B|A)\\cdot P(A)}{P(B)}}\n",
    "$$\n",
    "\n",
    "**Traducere libera**:\n",
    "\n",
    "Probabilitatea unui eveniment A, avand deja un eveniment B, poate fi calculata prin probabilitatea evenimentului B, avandu-l pe A, inmultita cu probabilitatea lui A, supra probabilitatea lui B.\n",
    "\n",
    "### In Machine Learning\n",
    "Teorema lui Bayes aplicata pentru clasificare este folosita astfel:\n",
    "$$\n",
    "\\longrightarrow P(y|X)=\\frac{P(X|y)\\cdot P(y)}{P(X)},\n",
    "$$\n",
    "unde: $X=(x_{1}, x_{2}, ..., x_{k})$.\n",
    "\n",
    "**Traducere libera**:\n",
    "- $P(y|X)$ => probabilitatea output-ului y daca avem caracteristicile X, numit si **posterior**!!\n",
    "- $P(X|y)$ => probabilitatea input-ului X daca avem output-ul y\n",
    "- $P(y)$ => probabilitatea output-ului y\n",
    "- $P(X)$ => probabilitatea input-ului X\n",
    "\n",
    "Pornind de la idea ca toate variabilele de intrare $x_{i}$ sunt independente una fata de cealalta, putem separa probabilitatea mare, a lui X in raport cu y, astfel:\n",
    "$$\n",
    "P(y|X)=\\frac{P(x_{1}|y)\\cdot P(x_{2}|y)\\cdot ...\\cdot P(x_{k}|y)\\cdot P(y)}{P(X)}\n",
    "$$\n",
    "Intentia este de a selecta clasa $y_{i}$ cu cea mai mare probabilitate, avand caracteristicile $X$. Astfel, se scrie:\n",
    "$$\n",
    "y = argmax_{y}(P(y|X)) = argmax_{y}\\frac{P(x_{1}|y)\\cdot P(x_{2}|y)\\cdot ...\\cdot P(x_{k}|y)\\cdot P(y)}{P(X)}\n",
    "$$\n",
    "Avand in vedere ca $P(X)$ nu are legatura cu $y$, il putem neglija, ajungand la ecuatia:\n",
    "$$\n",
    "y = argmax_{y}(P(x_{1}|y)\\cdot P(x_{2}|y)\\cdot ...\\cdot P(x_{k}|y)\\cdot P(y))\n",
    "$$\n",
    "Datorita faptului ca toate probabilitatile apartin $(0,1)$, vor aparea erori de calcul, inmultind numere flotante extrem de mici. Ca sa evitam operatia de inmultire, aplicam logaritmului natural, care are proprietatea de a desface produsul in suma:\n",
    "$$\n",
    "\\boxed{y = argmax_{y}(ln(P(x_{1}|y)) + ln(P(x_{2}|y)) + ... + ln(P(x_{k}|y)) + ln(P(y)))}\n",
    "$$\n",
    "\n",
    "**Cum calculam probabilitatile acestea?**\n",
    "- $P(y)$ - numita si probabilitatea anterioara, se refera la **frecventa fiecarei** clase (cati de 1 sau de 0 avem, cate mail-uri sunt spam si cate nu)\n",
    "- $P(x_{i}|y)$ - numita si probabilitatea conditionala a clasei, se calculeaza dupa modelul gausian:\n",
    "$$\n",
    "P(x_{i}|y) = \\frac{1}{\\sqrt{2\\pi\\sigma_{y}^{2}}}\\cdot e^{-(x_{i} - \\mu_{y})^{2}/2\\sigma_{y}^{2}}\n",
    "$$\n",
    "unde:\n",
    "- $\\mu_{y}$ => ***media*** aritmetica a caracteristicilor $x_{i}$ din clasa $y$.\n",
    "$$\n",
    "\\mu_{y} = \\frac{1}{N}\\sum_{i=1}^{N}x_{i}\n",
    "$$\n",
    "- $\\sigma_{y}^{2}$ => ***variatia*** caracteristicii $x_{i}$ din clasa $y$. Expune cat de mult variaza $x_{i}$.\n",
    "$$\n",
    "\\sigma_{y}^{2}=\\frac{1}{N}\\sum_{i=1}^{N}(x_{i} - \\mu_{y})^{2}\n",
    "$$\n",
    "- $\\sigma_{y}$ => ***deviatia standard*** a caracteristicii $x_{i}$ din clasa $y$. Expune cat de tare se raspandeste $x_{i}$ fata de media caracteristicilor $x_{i}$.\n",
    "$$\n",
    "\\sigma_{y}=\\sqrt{\\frac{1}{N}\\sum_{i=1}^{N}(x_{i} - \\mu_{y})^{2}}\n",
    "$$\n",
    "\n",
    "😵‍💫😵‍💫😵‍💫\n",
    "\n",
    "### **Algoritm**\n",
    "**Antrenare:**\n",
    "- calculam media\n",
    "- calculam variatia\n",
    "- calculam probabilitatea anterioara a lui y, aka, frecventa fiecarei clase din dataset.\n",
    "\n",
    "**Predictie:**\n",
    "- calculam probabilitatea anterioara (folosim formula lui Gauss pentru probabilitati).\n",
    "- alegem clasa cu cea mai mare probabilitate posterioara.\n",
    "\n",
    "-----\n",
    "\n",
    "### **Studiu de caz**: Supravietuitorii de pe Titanic.\n",
    "Dorim sa observam care factor a contribuit la supravietuirea dezastrului de pe Titanic din 1912."
   ]
  },
  {
   "cell_type": "code",
   "execution_count": null,
   "metadata": {},
   "outputs": [],
   "source": [
    "# data analysis and wrangling\n",
    "import pandas as pd\n",
    "import numpy as np\n",
    "import random as rnd\n",
    "\n",
    "# visualization\n",
    "import seaborn as sns\n",
    "import matplotlib.pyplot as plt\n",
    "\n",
    "# machine learning algorithm\n",
    "from sklearn.naive_bayes import GaussianNB"
   ]
  },
  {
   "cell_type": "markdown",
   "metadata": {},
   "source": [
    " Începem prin a achiziționa seturile de date de antrenament și de testare în pandas dataframes."
   ]
  },
  {
   "cell_type": "code",
   "execution_count": null,
   "metadata": {},
   "outputs": [],
   "source": [
    "train_df = pd.read_csv('../datasets/titanic/train.csv')\n",
    "test_df = pd.read_csv('../datasets/titanic/test.csv')\n",
    "combine = [train_df, test_df]"
   ]
  },
  {
   "cell_type": "markdown",
   "metadata": {},
   "source": [
    "### Analizarea datelor\n",
    "**1. Ce caracteristici sunt in setul de date?**\n",
    "\n",
    "Observam numele caracteristicilor prezente si valorile lor."
   ]
  },
  {
   "cell_type": "code",
   "execution_count": null,
   "metadata": {},
   "outputs": [],
   "source": [
    "train_df.head()"
   ]
  },
  {
   "cell_type": "code",
   "execution_count": null,
   "metadata": {},
   "outputs": [],
   "source": [
    "test_df.head()"
   ]
  },
  {
   "cell_type": "markdown",
   "metadata": {},
   "source": [
    "Ce caracteristici ar trebui sa conteze la supravietuirea accidentului? Ce conteaza?"
   ]
  },
  {
   "cell_type": "code",
   "execution_count": null,
   "metadata": {},
   "outputs": [],
   "source": [
    "train_df.drop([\n",
    "    'PassengerId',\n",
    "    'Name',\n",
    "    'SibSp',\n",
    "    'Parch',\n",
    "    'Ticket',\n",
    "    'Cabin',\n",
    "    'Embarked',\n",
    "], axis='columns', inplace=True)"
   ]
  },
  {
   "cell_type": "markdown",
   "metadata": {},
   "source": [
    "Separam datele de test si cele de antrenament in X si y."
   ]
  },
  {
   "cell_type": "code",
   "execution_count": null,
   "metadata": {},
   "outputs": [],
   "source": [
    "y_train = train_df['Survived']\n",
    "X_train = train_df.drop('Survived', axis='columns')\n",
    "\n",
    "X_test = test_df\n",
    "\n",
    "X_train.info()"
   ]
  },
  {
   "cell_type": "markdown",
   "metadata": {},
   "source": [
    "Observam ca, coloana Sex este de tip text, mai precis object. Pentru antrenare insa, avem nevoie de valoare numerica. Asadar vom inlocui 'male'/'female' cu valori numerice. "
   ]
  },
  {
   "cell_type": "code",
   "execution_count": null,
   "metadata": {},
   "outputs": [],
   "source": [
    "dummy_vals = pd.get_dummies(X_train['Sex'], dtype=int)\n",
    "dummy_vals.head()"
   ]
  },
  {
   "cell_type": "code",
   "execution_count": null,
   "metadata": {},
   "outputs": [],
   "source": [
    "X_train = pd.concat([X_train, dummy_vals], axis='columns')\n",
    "X_train.head()"
   ]
  },
  {
   "cell_type": "code",
   "execution_count": null,
   "metadata": {},
   "outputs": [],
   "source": [
    "X_train = X_train.drop('Sex', axis='columns')\n"
   ]
  },
  {
   "cell_type": "markdown",
   "metadata": {},
   "source": [
    "Verificam inconsistenta valorilor\n"
   ]
  },
  {
   "cell_type": "code",
   "execution_count": null,
   "metadata": {},
   "outputs": [],
   "source": [
    "X_train.columns[X_train.isna().any()]"
   ]
  },
  {
   "cell_type": "code",
   "execution_count": null,
   "metadata": {},
   "outputs": [],
   "source": [
    "X_test.isna().sum()"
   ]
  },
  {
   "cell_type": "code",
   "execution_count": null,
   "metadata": {},
   "outputs": [],
   "source": [
    "X_train['Age']"
   ]
  },
  {
   "cell_type": "markdown",
   "metadata": {},
   "source": [
    "Inlocuim valorile NaN cu media varstelor din dataset."
   ]
  },
  {
   "cell_type": "code",
   "execution_count": null,
   "metadata": {},
   "outputs": [],
   "source": [
    "X_train['Age'] = X_train['Age'].fillna(X_train['Age'].mean())\n",
    "X_train['Age']\n",
    "\n"
   ]
  },
  {
   "cell_type": "markdown",
   "metadata": {},
   "source": [
    "Datele au fost deja pregatite pentru antrenament si testare. Pregatim deci clasificatorul bayesian naiv."
   ]
  },
  {
   "cell_type": "code",
   "execution_count": null,
   "metadata": {},
   "outputs": [],
   "source": [
    "print(X_train.shape)\n",
    "print(y_train.shape)\n",
    "nb = GaussianNB()\n",
    "nb.fit(X_train, y_train)"
   ]
  },
  {
   "cell_type": "code",
   "execution_count": null,
   "metadata": {},
   "outputs": [],
   "source": [
    "accuracy = nb.score(X_test)"
   ]
  }
 ],
 "metadata": {
  "kernelspec": {
   "display_name": "Python 3",
   "language": "python",
   "name": "python3"
  },
  "language_info": {
   "codemirror_mode": {
    "name": "ipython",
    "version": 3
   },
   "file_extension": ".py",
   "mimetype": "text/x-python",
   "name": "python",
   "nbconvert_exporter": "python",
   "pygments_lexer": "ipython3",
   "version": "3.12.0"
  }
 },
 "nbformat": 4,
 "nbformat_minor": 2
}
