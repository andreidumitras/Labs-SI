{
 "cells": [
  {
   "cell_type": "markdown",
   "metadata": {},
   "source": [
    "## What is MNIST dataset?\n",
    "\n",
    "![](http://miro.medium.com/max/1080/0*Yf6jSy8y3QHHhAws)\n",
    "\n",
    " The MNIST database (Modified National Institute of Standards and Technology database) is a large database of handwritten digits that is commonly used for training various image processing systems. The database is also widely used for training and testing in the field of machine learning. It was created by \"re-mixing\" the samples from NIST's original datasets. The creators felt that since NIST's training dataset was taken from American Census Bureau employees, while the testing dataset was taken from American high school students, it was not well-suited for machine learning experiments. Furthermore, the black and white images from NIST were normalized to fit into a 28x28 pixel bounding box and anti-aliased, which introduced grayscale levels.\n",
    "\n",
    "The MNIST database contains 60,000 training images and 10,000 testing images. Half of the training set and half of the test set were taken from NIST's training dataset, while the other half of the training set and the other half of the test set were taken from NIST's testing dataset. The original creators of the database keep a list of some of the methods tested on it. In their original paper, they use a support-vector machine to get an error rate of 0.8%. \n",
    "\n",
    "The set of images in the MNIST database was created in 1998 as a combination of two of NIST's databases: Special Database 1 and Special Database 3. Special Database 1 and Special Database 3 consist of digits written by high school students and employees of the United States Census Bureau, respectively.\n",
    "\n",
    "Source: Wikipedia.com\n",
    "\n",
    "Sample image:\n",
    "\n",
    "![](http://anatomiesofintelligence.github.io/img/m/mnist-dataset-sample.gif)"
   ]
  },
  {
   "cell_type": "code",
   "execution_count": null,
   "metadata": {
    "execution": {
     "iopub.execute_input": "2022-06-07T13:04:39.600993Z",
     "iopub.status.busy": "2022-06-07T13:04:39.60023Z",
     "iopub.status.idle": "2022-06-07T13:04:39.608697Z",
     "shell.execute_reply": "2022-06-07T13:04:39.607918Z",
     "shell.execute_reply.started": "2022-06-07T13:04:39.600948Z"
    },
    "trusted": true
   },
   "outputs": [],
   "source": [
    "# The modules necessary to perform the analysis are included in the notebook\n",
    "\n",
    "import tensorflow\n",
    "from tensorflow.keras import layers\n",
    "from tensorflow.keras import models\n",
    "from tensorflow.keras import regularizers\n",
    "from tensorflow.keras.datasets import mnist\n",
    "from tensorflow.keras.utils import to_categorical\n",
    "\n",
    "from keras.preprocessing.image import load_img\n",
    "from keras.preprocessing.image import img_to_array\n",
    "from keras.models import load_model\n",
    "\n",
    "import matplotlib.pyplot as plt\n",
    "import numpy as np\n",
    "import pandas as pd\n",
    "import seaborn as sns"
   ]
  },
  {
   "cell_type": "markdown",
   "metadata": {},
   "source": [
    "### Loading the MNIST dataset"
   ]
  },
  {
   "cell_type": "code",
   "execution_count": null,
   "metadata": {
    "execution": {
     "iopub.execute_input": "2022-06-07T13:04:45.007709Z",
     "iopub.status.busy": "2022-06-07T13:04:45.007007Z",
     "iopub.status.idle": "2022-06-07T13:04:45.350382Z",
     "shell.execute_reply": "2022-06-07T13:04:45.349555Z",
     "shell.execute_reply.started": "2022-06-07T13:04:45.007668Z"
    },
    "trusted": true
   },
   "outputs": [],
   "source": [
    "(x_train, y_train), (x_test, y_test) = mnist.load_data()\n",
    "x_train.shape, x_test.shape"
   ]
  },
  {
   "cell_type": "markdown",
   "metadata": {},
   "source": [
    "### Counting unique labels"
   ]
  },
  {
   "cell_type": "code",
   "execution_count": null,
   "metadata": {
    "execution": {
     "iopub.execute_input": "2022-06-07T13:05:19.451387Z",
     "iopub.status.busy": "2022-06-07T13:05:19.450495Z",
     "iopub.status.idle": "2022-06-07T13:05:19.462813Z",
     "shell.execute_reply": "2022-06-07T13:05:19.461772Z",
     "shell.execute_reply.started": "2022-06-07T13:05:19.451329Z"
    },
    "trusted": true
   },
   "outputs": [],
   "source": [
    "# Here we count the number of (how many from each of the classes) unique train labels. \n",
    "\n",
    "unique, counts = np.unique(y_train, return_counts=True)\n",
    "print(\"For train dataset - labels: \\n\", dict(zip(unique, counts)))"
   ]
  },
  {
   "cell_type": "code",
   "execution_count": null,
   "metadata": {
    "execution": {
     "iopub.execute_input": "2022-06-07T13:05:23.397956Z",
     "iopub.status.busy": "2022-06-07T13:05:23.397184Z",
     "iopub.status.idle": "2022-06-07T13:05:23.403577Z",
     "shell.execute_reply": "2022-06-07T13:05:23.402531Z",
     "shell.execute_reply.started": "2022-06-07T13:05:23.397919Z"
    },
    "trusted": true
   },
   "outputs": [],
   "source": [
    "# Here we count the number of (how many from each of the classes) unique test labels. \n",
    "\n",
    "unique, counts = np.unique(y_test, return_counts=True)\n",
    "print(\"For test dataset - labels: \\n\", dict(zip(unique, counts)))"
   ]
  },
  {
   "cell_type": "markdown",
   "metadata": {},
   "source": [
    "### Visualizing some digits"
   ]
  },
  {
   "cell_type": "code",
   "execution_count": null,
   "metadata": {
    "execution": {
     "iopub.execute_input": "2022-06-07T13:05:26.560226Z",
     "iopub.status.busy": "2022-06-07T13:05:26.559667Z",
     "iopub.status.idle": "2022-06-07T13:05:26.871784Z",
     "shell.execute_reply": "2022-06-07T13:05:26.870791Z",
     "shell.execute_reply.started": "2022-06-07T13:05:26.56019Z"
    },
    "trusted": true
   },
   "outputs": [],
   "source": [
    "img_array = x_train[7]\n",
    "x = plt.imshow(img_array, interpolation = \"antialiased\", alpha = 1, cmap = plt.cm.binary)\n",
    "plt.colorbar(x)\n",
    "plt.show()"
   ]
  },
  {
   "cell_type": "markdown",
   "metadata": {},
   "source": []
  },
  {
   "cell_type": "code",
   "execution_count": null,
   "metadata": {
    "execution": {
     "iopub.execute_input": "2022-06-07T13:05:29.5508Z",
     "iopub.status.busy": "2022-06-07T13:05:29.550261Z",
     "iopub.status.idle": "2022-06-07T13:05:31.808374Z",
     "shell.execute_reply": "2022-06-07T13:05:31.807343Z",
     "shell.execute_reply.started": "2022-06-07T13:05:29.550766Z"
    },
    "trusted": true
   },
   "outputs": [],
   "source": [
    "#Here we visualize 49 digits from train dataset\n",
    "\n",
    "idxs = np.random.randint(0, x_train.shape[0], size = 49)\n",
    "images = x_train[idxs]\n",
    "labels = y_train[idxs]\n",
    "\n",
    "plt.figure(figsize = (7, 7))\n",
    "for i in range(len(idxs)):\n",
    "    plt.subplot(7, 7, i + 1)\n",
    "    image = images[i]\n",
    "    plt.imshow(image, cmap='Dark2')\n",
    "    plt.axis('off')\n",
    "    \n",
    "plt.show()"
   ]
  },
  {
   "cell_type": "code",
   "execution_count": null,
   "metadata": {},
   "outputs": [],
   "source": []
  },
  {
   "cell_type": "markdown",
   "metadata": {},
   "source": [
    "Here we convert the values of our dataset to \"float32\" data type. Then we standardize them dividing by 255. Why we divide 255? \n",
    "\n",
    "Since 255 is the maximum value, dividing by 255 expresses a 0-1 representation. Each channel (Red, Green, and Blue are each channels) is 8 bits, so they are each limited to 256, in this case 255 since 0 is included. As the reference shows, systems typically use values between 0-1 when using floating point values."
   ]
  },
  {
   "cell_type": "code",
   "execution_count": null,
   "metadata": {
    "execution": {
     "iopub.execute_input": "2022-06-07T13:05:43.884502Z",
     "iopub.status.busy": "2022-06-07T13:05:43.883928Z",
     "iopub.status.idle": "2022-06-07T13:05:44.024646Z",
     "shell.execute_reply": "2022-06-07T13:05:44.023879Z",
     "shell.execute_reply.started": "2022-06-07T13:05:43.884469Z"
    },
    "trusted": true
   },
   "outputs": [],
   "source": [
    "x_train = x_train.reshape((60000, 28, 28, 1))\n",
    "x_train = x_train.astype(\"float32\") / 255\n",
    "\n",
    "x_test = x_test.reshape((10000, 28, 28, 1))\n",
    "x_test = x_test.astype(\"float32\") / 255"
   ]
  },
  {
   "cell_type": "markdown",
   "metadata": {},
   "source": [
    "# One-Hot Encoding\n",
    "What is the meaning of one hot encoding? One hot encoding can be defined as the essential process of converting the categorical data variables to be provided to machine and deep learning algorithms which in turn improve predictions as well as classification accuracy of a model\n",
    "\n",
    "What is the advantage of one hot encoding? One-hot encoding ensures that machine learning does not assume that higher numbers are more important. For example, the value '8' is bigger than the value '1', but that does not make '8' more important than '1'.\n",
    "\n",
    "Sample image:\n",
    "\n",
    "![](http://www.statology.org/wp-content/uploads/2021/09/oneHot1.png)"
   ]
  },
  {
   "cell_type": "code",
   "execution_count": null,
   "metadata": {
    "execution": {
     "iopub.execute_input": "2022-06-07T13:06:05.160438Z",
     "iopub.status.busy": "2022-06-07T13:06:05.159989Z",
     "iopub.status.idle": "2022-06-07T13:06:05.167126Z",
     "shell.execute_reply": "2022-06-07T13:06:05.166163Z",
     "shell.execute_reply.started": "2022-06-07T13:06:05.160402Z"
    },
    "trusted": true
   },
   "outputs": [],
   "source": [
    "y_train = to_categorical(y_train)\n",
    "y_test = to_categorical(y_test)"
   ]
  },
  {
   "cell_type": "code",
   "execution_count": null,
   "metadata": {
    "execution": {
     "iopub.execute_input": "2022-06-07T13:06:07.98125Z",
     "iopub.status.busy": "2022-06-07T13:06:07.980565Z",
     "iopub.status.idle": "2022-06-07T13:06:07.987875Z",
     "shell.execute_reply": "2022-06-07T13:06:07.987053Z",
     "shell.execute_reply.started": "2022-06-07T13:06:07.981207Z"
    },
    "trusted": true
   },
   "outputs": [],
   "source": [
    "# we look at encoded train labels\n",
    "print(\"Encoded train labels\\n\", y_train[0:5])\n",
    "print(\"\\nEncoded test labels\\n\", y_test[0:5])"
   ]
  },
  {
   "cell_type": "markdown",
   "metadata": {},
   "source": []
  },
  {
   "cell_type": "markdown",
   "metadata": {},
   "source": [
    "# Building the model\n",
    "\n",
    "\n",
    "A Sequential model is appropriate for a plain stack of layers where each   layer has exactly one input tensor and one output tensor. A Sequential model is not appropriate when:\n",
    "\n",
    "1. Your model has multiple inputs or multiple outputs\n",
    "2. Any of your layers has multiple inputs or multiple outputs\n",
    "3. You need to do layer sharing\n",
    "4. You want non-linear topology (e.g. a residual connection, a multi-  branch model)\n",
    "\n",
    "#### Sample image - Sequential layer\n",
    "![](http://miro.medium.com/max/874/1*eJ36Jpf-DE9q5nKk67xT0Q.jpeg)\n",
    "_____________________________________________________________________________________________\n",
    "\n",
    "Conv2D layer creates a convolution kernel that is convolved with the layer input to produce a tensor of outputs. If \"use_bias\" is True, a bias vector is created and added to the outputs. Finally, if activation is not None, it is applied to the outputs as well.\n",
    "_____________________________________________________________________________________________\n",
    "\n",
    "MaxPooling2D class. Max pooling operation for 2D spatial data. Downsamples the input along its spatial dimensions (height and width) by taking the maximum value over an input window (of size defined by pool_size ) for each channel of the input. The window is shifted by strides along each dimension.\n",
    "\n",
    "Sample image - Conv2D and MaxPooling\n",
    "![](http://media.geeksforgeeks.org/wp-content/uploads/20220306232744/cnn.png)\n",
    "\n",
    "_____________________________________________________________________________________________\n",
    "\n",
    " Flatten layer is used to make the multidimensional input one-dimensional, commonly used in the transition from the convolution layer to the full connected layer.\n",
    "\n",
    " Sample image - flattening\n",
    "![](http://www.researchgate.net/profile/M-Suriya/publication/336320439/figure/fig5/AS:906249382141958@1593078098644/Conversion-of-convoluted-layer-to-flatten-layer.png)\n",
    "\n",
    "_____________________________________________________________________________________________\n",
    "\n",
    " Dense Layer is simple layer of neurons in which each neuron receives input from all the neurons of previous layer, thus called as dense. Dense Layer is used to classify image based on output from convolutional layers.\n",
    "\n",
    " Sample image - Dense layer\n",
    "![image.png](http://epynn.net/_images/Dense-01.svg)\n",
    "\n",
    "___________________________________________________________________________________\n",
    "\n",
    "### Why should we use softmax?\n",
    "The softmax function is used as the activation function in the output layer of neural network models that predict a multinomial probability distribution. That is, softmax is used as the activation function for multi-class classification problems where class membership is required on more than two class labels"
   ]
  },
  {
   "cell_type": "code",
   "execution_count": null,
   "metadata": {
    "execution": {
     "iopub.execute_input": "2022-06-07T13:08:29.332279Z",
     "iopub.status.busy": "2022-06-07T13:08:29.331221Z",
     "iopub.status.idle": "2022-06-07T13:08:29.43545Z",
     "shell.execute_reply": "2022-06-07T13:08:29.434596Z",
     "shell.execute_reply.started": "2022-06-07T13:08:29.332234Z"
    },
    "trusted": true
   },
   "outputs": [],
   "source": [
    "model = models.Sequential()\n",
    "\n"
   ]
  },
  {
   "cell_type": "markdown",
   "metadata": {},
   "source": []
  },
  {
   "cell_type": "markdown",
   "metadata": {},
   "source": [
    "## Compiling and Fitting\n",
    "\n",
    "Categorical crossentropy is a loss function that is used in multi-class classification tasks. These are tasks where an example can only belong to one out of many possible categories, and the model must decide which one. Formally, it is designed to quantify the difference between two probability distributions.\n",
    "\n",
    "____________________________________________________________________________\n",
    "\n",
    "batch_size - is a term that refers to the number of training examples utilized in one iteration\n",
    "epochs - a number of epochs means how many times you go through your training set\n",
    "____________________________________________________________________________"
   ]
  },
  {
   "cell_type": "code",
   "execution_count": null,
   "metadata": {
    "execution": {
     "iopub.execute_input": "2022-06-07T13:08:47.140535Z",
     "iopub.status.busy": "2022-06-07T13:08:47.140069Z",
     "iopub.status.idle": "2022-06-07T13:11:52.710443Z",
     "shell.execute_reply": "2022-06-07T13:11:52.709332Z",
     "shell.execute_reply.started": "2022-06-07T13:08:47.140497Z"
    },
    "trusted": true
   },
   "outputs": [],
   "source": [
    "epoch = 10\n",
    "batch_size = 64\n",
    "\n",
    "model.compile(optimizer = \"adam\",\n",
    "             loss = \"categorical_crossentropy\",\n",
    "             metrics = [\"accuracy\"])\n",
    "model.fit(x_train, y_train, epochs = epoch, batch_size = batch_size)"
   ]
  },
  {
   "cell_type": "markdown",
   "metadata": {},
   "source": [
    "## Getting model summary"
   ]
  },
  {
   "cell_type": "code",
   "execution_count": null,
   "metadata": {
    "execution": {
     "iopub.execute_input": "2022-06-07T13:11:52.713006Z",
     "iopub.status.busy": "2022-06-07T13:11:52.712022Z",
     "iopub.status.idle": "2022-06-07T13:11:52.721019Z",
     "shell.execute_reply": "2022-06-07T13:11:52.720097Z",
     "shell.execute_reply.started": "2022-06-07T13:11:52.71296Z"
    },
    "trusted": true
   },
   "outputs": [],
   "source": [
    "model.summary()"
   ]
  },
  {
   "cell_type": "markdown",
   "metadata": {},
   "source": [
    "## Model Performance Graph"
   ]
  },
  {
   "cell_type": "code",
   "execution_count": null,
   "metadata": {
    "execution": {
     "iopub.execute_input": "2022-06-07T13:11:59.749905Z",
     "iopub.status.busy": "2022-06-07T13:11:59.749225Z",
     "iopub.status.idle": "2022-06-07T13:14:37.326076Z",
     "shell.execute_reply": "2022-06-07T13:14:37.325227Z",
     "shell.execute_reply.started": "2022-06-07T13:11:59.749865Z"
    },
    "trusted": true
   },
   "outputs": [],
   "source": [
    "history = model.fit(x_train, y_train, epochs = epoch, batch_size = batch_size,\n",
    "                    shuffle = True, validation_split = 0.25)"
   ]
  },
  {
   "cell_type": "code",
   "execution_count": null,
   "metadata": {
    "execution": {
     "iopub.execute_input": "2022-06-07T13:14:41.731373Z",
     "iopub.status.busy": "2022-06-07T13:14:41.730716Z",
     "iopub.status.idle": "2022-06-07T13:14:41.933535Z",
     "shell.execute_reply": "2022-06-07T13:14:41.932538Z",
     "shell.execute_reply.started": "2022-06-07T13:14:41.731332Z"
    },
    "trusted": true
   },
   "outputs": [],
   "source": [
    "def model_perf(metric, validations_metric):\n",
    "    plt.plot(history.history[metric], label = str(\"Training \" + metric))\n",
    "    plt.plot(history.history[validations_metric], label = str(\"Validation \" + metric))\n",
    "    plt.legend()\n",
    "\n",
    "model_perf(\"accuracy\", \"val_accuracy\")"
   ]
  },
  {
   "cell_type": "code",
   "execution_count": null,
   "metadata": {
    "execution": {
     "iopub.execute_input": "2022-06-07T13:14:46.119685Z",
     "iopub.status.busy": "2022-06-07T13:14:46.118708Z",
     "iopub.status.idle": "2022-06-07T13:14:46.3083Z",
     "shell.execute_reply": "2022-06-07T13:14:46.307335Z",
     "shell.execute_reply.started": "2022-06-07T13:14:46.119637Z"
    },
    "trusted": true
   },
   "outputs": [],
   "source": [
    "def model_perf(metric, validations_metric):\n",
    "    plt.plot(history.history[metric], label = str(\"Training \" + metric))\n",
    "    plt.plot(history.history[validations_metric], label = str(\"Validation \" + metric))\n",
    "    plt.legend()\n",
    "\n",
    "model_perf(\"loss\", \"val_loss\")"
   ]
  },
  {
   "cell_type": "markdown",
   "metadata": {},
   "source": [
    "### Model evaluate"
   ]
  },
  {
   "cell_type": "code",
   "execution_count": null,
   "metadata": {
    "execution": {
     "iopub.execute_input": "2022-06-07T13:14:51.439679Z",
     "iopub.status.busy": "2022-06-07T13:14:51.439214Z",
     "iopub.status.idle": "2022-06-07T13:14:53.032994Z",
     "shell.execute_reply": "2022-06-07T13:14:53.031922Z",
     "shell.execute_reply.started": "2022-06-07T13:14:51.439641Z"
    },
    "trusted": true
   },
   "outputs": [],
   "source": [
    "test_loss, test_acc = model.evaluate(x_test, y_test)\n",
    "print(\"Test accuracy: \", test_acc * 100)\n",
    "print(\"Test loss: \", test_loss * 100)"
   ]
  },
  {
   "cell_type": "markdown",
   "metadata": {},
   "source": [
    "## New image prediction"
   ]
  },
  {
   "cell_type": "code",
   "execution_count": null,
   "metadata": {
    "execution": {
     "iopub.execute_input": "2022-06-07T13:16:47.581601Z",
     "iopub.status.busy": "2022-06-07T13:16:47.581191Z",
     "iopub.status.idle": "2022-06-07T13:16:47.587196Z",
     "shell.execute_reply": "2022-06-07T13:16:47.586264Z",
     "shell.execute_reply.started": "2022-06-07T13:16:47.581569Z"
    },
    "trusted": true
   },
   "outputs": [],
   "source": [
    "'''\n",
    "\n",
    "def loading_new_image(filename):\n",
    "    image = load_img(filename, grayscale = True, target_size = (28, 28))\n",
    "    image = img_to_array(image)\n",
    "    image = image.reshape(1, 28, 28, 1)\n",
    "    image = image.astype(\"float32\")\n",
    "    image = image/255\n",
    "    return image\n",
    "\n",
    "def predicting_new_image():\n",
    "    image = loading_new_image(\"my_sample_img.jpg\")\n",
    "    predicted = model.predict(image)\n",
    "    digit = np.argmax(predicted)\n",
    "    print(digit)\n",
    "    \n",
    "predicting_new_image()\n",
    "\n",
    "'''\n",
    "pass"
   ]
  }
 ],
 "metadata": {
  "kaggle": {
   "accelerator": "none",
   "dataSources": [],
   "dockerImageVersionId": 30197,
   "isGpuEnabled": false,
   "isInternetEnabled": false,
   "language": "python",
   "sourceType": "notebook"
  },
  "kernelspec": {
   "display_name": "Python 3",
   "language": "python",
   "name": "python3"
  },
  "language_info": {
   "codemirror_mode": {
    "name": "ipython",
    "version": 3
   },
   "file_extension": ".py",
   "mimetype": "text/x-python",
   "name": "python",
   "nbconvert_exporter": "python",
   "pygments_lexer": "ipython3",
   "version": "3.6.4"
  }
 },
 "nbformat": 4,
 "nbformat_minor": 4
}
